{
 "cells": [
  {
   "cell_type": "code",
   "execution_count": 1,
   "metadata": {},
   "outputs": [],
   "source": [
    "%matplotlib notebook\n",
    "import matplotlib.pyplot as plt\n",
    "import matplotlib.animation as animation\n",
    "import numpy as np\n",
    "from scipy import constants\n",
    "from scipy.interpolate import interp1d\n",
    "from typing import Union\n",
    "import time\n",
    "\n",
    "sqrt = np.sqrt\n",
    "pi = np.pi\n",
    "tau = 2*pi"
   ]
  },
  {
   "cell_type": "code",
   "execution_count": 2,
   "metadata": {},
   "outputs": [],
   "source": [
    "kb = constants.Boltzmann\n",
    "hb = constants.hbar\n",
    "mcs = 132.90545*constants.atomic_mass\n",
    "c=constants.c\n",
    "eps = constants.epsilon_0\n",
    "g = 9.81 #m/s**2\n",
    "gu = g*1e-6  #um/us**2"
   ]
  },
  {
   "cell_type": "code",
   "execution_count": 7,
   "metadata": {},
   "outputs": [],
   "source": [
    "# for 2.8um wide 938nm trap, power that produces a 1mK trap depth\n",
    "P1mK = 18.9105# mW\n",
    "wref = 2.8 # um\n",
    "Ut = lambda P, w: P/P1mK * (wref/w)**2 # mK\n",
    "\n",
    "# from polarizability\n",
    "def trap_depth(alpha:float, P:float, w:float):\n",
    "    \"\"\"\n",
    "    computes trap depth in mK, assuming gaussian beam\n",
    "    Args:\n",
    "        alpha : dynamic polarizability at trap wavelength, in SI units (MHz/(V/m)^2)\n",
    "        P : total power in beam (mW)\n",
    "        w : beam waist (um)\n",
    "    \"\"\"\n",
    "    return (-alpha/(pi*c*eps)*P*1e-3/(w*1e-6)**2)/kb*1e3  # trap depth in mK\n",
    "\n",
    "#alpha0 at 1064nm\n",
    "alpha_FORT_CGS = -173.4 # angstrom^3\n",
    "alpha_FORT_SI = alpha_FORT_CGS*1e-30*4*pi*eps\n",
    "\n",
    "U = lambda P,w: trap_depth(alpha_FORT_SI,P,w)\n",
    "zr_gauss = lambda w, l: pi*w**2/l\n",
    "# zr_exp = 16  #um"
   ]
  },
  {
   "cell_type": "code",
   "execution_count": 12,
   "metadata": {},
   "outputs": [
    {
     "data": {
      "text/plain": [
       "3.072179123397548"
      ]
     },
     "execution_count": 12,
     "metadata": {},
     "output_type": "execute_result"
    }
   ],
   "source": [
    "trap_depth(alpha_FORT_SI,165,3)"
   ]
  },
  {
   "cell_type": "code",
   "execution_count": null,
   "metadata": {},
   "outputs": [],
   "source": []
  }
 ],
 "metadata": {
  "kernelspec": {
   "display_name": "Python 3",
   "language": "python",
   "name": "python3"
  },
  "language_info": {
   "codemirror_mode": {
    "name": "ipython",
    "version": 3
   },
   "file_extension": ".py",
   "mimetype": "text/x-python",
   "name": "python",
   "nbconvert_exporter": "python",
   "pygments_lexer": "ipython3",
   "version": "3.8.6"
  }
 },
 "nbformat": 4,
 "nbformat_minor": 4
}
